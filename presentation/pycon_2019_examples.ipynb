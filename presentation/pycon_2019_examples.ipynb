{
 "cells": [
  {
   "cell_type": "markdown",
   "metadata": {},
   "source": [
    "# Static typing with annotations\n",
    "Typing annotations enable static analysis of your code and also make your code more readable. "
   ]
  },
  {
   "cell_type": "markdown",
   "metadata": {},
   "source": [
    "```python\n",
    "# Dynamic typing\n",
    "def foo_static(arg1, arg2):\n",
    "    return (\"a\" * arg1) + \" \" + arg2\n",
    "\n",
    "# Static typing\n",
    "def foo_dynamic(arg1: int, arg2: str) -> str:\n",
    "    return (\"a\" * arg1) + \" \" + arg2\n",
    "\n",
    "foo_dynamic(\"oops\", \"bar\")\n",
    "foo_dynamic(3, \"bar\") + 99\n",
    "foo_static(\"oops\", \"bar\")\n",
    "foo_static(3, \"bar\") + 99\n",
    "\n",
    "x = 1\n",
    "x = \"baz\"\n",
    "\n",
    "import typing\n",
    "y: typing.List[bool]\n",
    "y = [True, False, True]\n",
    "y = [True, \"some_string\"]\n",
    "```\n",
    "\n",
    "```bash\n",
    "\n",
    "% mypy typing_example.py\n",
    "typing_example.py:9: error: Argument 1 to \"foo_dynamic\" has incompatible type \"str\"; expected \"int\"\n",
    "typing_example.py:10: error: Unsupported operand types for + (\"str\" and \"int\")\n",
    "typing_example.py:15: error: Incompatible types in assignment (expression has type \"str\", variable has type \"int\")\n",
    "typing_example.py:20: error: List item 1 has incompatible type \"str\"; expected \"bool\"\n",
    "```"
   ]
  },
  {
   "cell_type": "markdown",
   "metadata": {},
   "source": [
    "# Decorators\n",
    "\n",
    "Decorators add functionality to a function or class."
   ]
  },
  {
   "cell_type": "markdown",
   "metadata": {},
   "source": [
    "## Example: dataclasses.dataclass\n",
    "\n",
    "Two simple classes; one is decorated with the @dataclasses.dataclass decorator."
   ]
  },
  {
   "cell_type": "code",
   "execution_count": 1,
   "metadata": {},
   "outputs": [],
   "source": [
    "import sys\n",
    "import dataclasses\n",
    "\n",
    "class MyClass:\n",
    "    strMember: str\n",
    "    intMember: int = 99\n",
    "\n",
    "    def foo(arg: int) -> str:\n",
    "        return str(arg)\n",
    "\n",
    "@dataclasses.dataclass\n",
    "class MyDataclass:\n",
    "    strMember: str\n",
    "    intMember: int = 99\n",
    "\n",
    "    def foo(arg: int) -> str:\n",
    "        return str(arg)"
   ]
  },
  {
   "cell_type": "markdown",
   "metadata": {},
   "source": [
    "MyDataclass gets 'free' __init__(), __repr__(), __eq__() members. "
   ]
  },
  {
   "cell_type": "code",
   "execution_count": 2,
   "metadata": {},
   "outputs": [
    {
     "name": "stdout",
     "output_type": "stream",
     "text": [
      "MyDataclass(strMember='X', intMember=1)\n"
     ]
    }
   ],
   "source": [
    "x = MyDataclass(\"X\", 1)\n",
    "print(x)"
   ]
  },
  {
   "cell_type": "code",
   "execution_count": 3,
   "metadata": {},
   "outputs": [
    {
     "name": "stdout",
     "output_type": "stream",
     "text": [
      "MyClass() takes no arguments\n",
      "<__main__.MyClass object at 0x7fef300ad240>\n"
     ]
    }
   ],
   "source": [
    "try:\n",
    "    y = MyClass(\"Y\", 2)\n",
    "except TypeError as e:\n",
    "    print(e)\n",
    "    y = MyClass()\n",
    "    y.strMember = \"Y\"\n",
    "    y.intMember = 2\n",
    "    print(y)"
   ]
  },
  {
   "cell_type": "code",
   "execution_count": 4,
   "metadata": {},
   "outputs": [
    {
     "name": "stdout",
     "output_type": "stream",
     "text": [
      "x is eq to x_copy: True\n",
      "y is eq to y_copy: False\n"
     ]
    }
   ],
   "source": [
    "import copy\n",
    "x_copy = copy.copy(x)\n",
    "y_copy = copy.copy(y)\n",
    "print(f\"x is eq to x_copy: {x == x_copy}\")\n",
    "print(f\"y is eq to y_copy: {y == y_copy}\")"
   ]
  },
  {
   "cell_type": "markdown",
   "metadata": {},
   "source": [
    "## Example: timer\n",
    "\n",
    "Timer is a function decorator.  Once some function 'fun' is decorated with @timer, the actual function that is run is 'wrapper'; 'wrapper' calls 'fun' and returns its result, and it also times the 'fun' call."
   ]
  },
  {
   "cell_type": "code",
   "execution_count": 6,
   "metadata": {},
   "outputs": [],
   "source": [
    "import time\n",
    "\n",
    "def timer(fun):\n",
    "    \n",
    "    def wrapper(*args, **kwargs):\n",
    "        start_time = time.time()\n",
    "        result = fun(*args, **kwargs)\n",
    "        total_time = time.time() - start_time\n",
    "        print(f\"[{fun.__name__} took {total_time} sec to run]\")\n",
    "        return result\n",
    "\n",
    "    return wrapper"
   ]
  },
  {
   "cell_type": "code",
   "execution_count": 8,
   "metadata": {},
   "outputs": [
    {
     "name": "stdout",
     "output_type": "stream",
     "text": [
      "200000\n",
      "[fast_int_add took 9.5367431640625e-07 sec to run]\n",
      "200000\n",
      "[slow_int_add took 0.046714067459106445 sec to run]\n",
      "200000\n"
     ]
    }
   ],
   "source": [
    "def fast_int_add_plain(x, y):\n",
    "    return x + y\n",
    "\n",
    "@timer\n",
    "def fast_int_add(x, y):\n",
    "    return x + y\n",
    "\n",
    "@timer\n",
    "def slow_int_add(x, y):\n",
    "    result = x\n",
    "    for i in range(y):\n",
    "        result += 1\n",
    "    return result\n",
    "\n",
    "x = 100000\n",
    "y = 100000\n",
    "print(fast_int_add_plain(x, y))\n",
    "print(fast_int_add(x, y))\n",
    "print(slow_int_add(x, y))"
   ]
  },
  {
   "cell_type": "markdown",
   "metadata": {},
   "source": [
    "# Floats\n",
    "\n",
    "Floats are stored as a sign bit, exponent bits ('scaling factor' = the point 'floats'), and the fractional part ('mantissa').\n",
    "\n",
    "The mantissa is stored as base-2, so numbers that can be represented as a (reasonably-)finite sequence of base-2 integers can be represented exactly."
   ]
  },
  {
   "cell_type": "code",
   "execution_count": 1,
   "metadata": {},
   "outputs": [],
   "source": [
    "def print_eval(stmt: str) -> str:\n",
    "    print(f\"Evaluating {stmt}: {eval(stmt)}\")"
   ]
  },
  {
   "cell_type": "code",
   "execution_count": 2,
   "metadata": {},
   "outputs": [
    {
     "name": "stdout",
     "output_type": "stream",
     "text": [
      "Evaluating a + b == c: True\n",
      "Evaluating x + y == z: False\n"
     ]
    }
   ],
   "source": [
    "a = 0.5\n",
    "b = 0.25\n",
    "c = 0.75\n",
    "print_eval(\"a + b == c\")\n",
    "\n",
    "x = 0.1\n",
    "y = 0.2\n",
    "z = 0.3\n",
    "print_eval(\"x + y == z\")"
   ]
  },
  {
   "cell_type": "markdown",
   "metadata": {},
   "source": [
    "math.fsum() 'tracks multiple intermediate partial sums'.\n",
    "\n",
    "numpy.sum() is another floating point summer.  numpy.isclose() calculates whether or not floating point numbers are equal within a given tolerance.\n",
    "\n",
    "The decimal module provides good default precision and sensible rounding"
   ]
  },
  {
   "cell_type": "code",
   "execution_count": 3,
   "metadata": {},
   "outputs": [
    {
     "name": "stdout",
     "output_type": "stream",
     "text": [
      "Evaluating math.fsum((x, y)) == z: False\n",
      "Evaluating numpy.sum((x, y)) == z: False\n",
      "Evaluating numpy.isclose(numpy.sum((x, y)), z): True\n",
      "Evaluating xd + yd == zd: True\n"
     ]
    }
   ],
   "source": [
    "import math\n",
    "print_eval(\"math.fsum((x, y)) == z\")\n",
    "\n",
    "import numpy\n",
    "print_eval(\"numpy.sum((x, y)) == z\")\n",
    "print_eval(\"numpy.isclose(numpy.sum((x, y)), z)\")\n",
    "\n",
    "from decimal import Decimal\n",
    "\n",
    "xd = Decimal(str(x))\n",
    "yd = Decimal(str(y))\n",
    "zd = Decimal(str(z))\n",
    "print_eval(\"xd + yd == zd\")"
   ]
  },
  {
   "cell_type": "markdown",
   "metadata": {},
   "source": [
    "Other funny things happen with floats."
   ]
  },
  {
   "cell_type": "code",
   "execution_count": 6,
   "metadata": {},
   "outputs": [
    {
     "name": "stdout",
     "output_type": "stream",
     "text": [
      "Evaluating 1e20 + 1 == 1e20: True\n",
      "Evaluating 12345 + 1e15: 1000000000012345.0\n",
      "Evaluating 12345 + 1e16: 1.0000000000012344e+16\n",
      "Evaluating 12345 + 1e17: 1.0000000000001235e+17\n",
      "Evaluating i: inf\n",
      "Evaluating i + i: inf\n",
      "Evaluating i > 10e10: True\n",
      "Evaluating i > 10e307: True\n",
      "Evaluating i > 10e308: False\n",
      "Evaluating i / i: nan\n",
      "Evaluating n: nan\n",
      "Evaluating n == n: False\n",
      "Evaluating 1 > n: False\n",
      "Evaluating 1 < n: False\n",
      "Evaluating 1 == n: False\n",
      "Evaluating 1 + n: nan\n",
      "Evaluating n in [n]: True\n"
     ]
    }
   ],
   "source": [
    "print_eval(\"1e20 + 1 == 1e20\") # Precision vs. magnitude tradeoff\n",
    "\n",
    "print_eval(\"12345 + 1e15\")\n",
    "print_eval(\"12345 + 1e16\")\n",
    "print_eval(\"12345 + 1e17\")\n",
    "\n",
    "i = float(\"inf\")\n",
    "print_eval(\"i\")\n",
    "print_eval(\"i + i\")\n",
    "print_eval(\"i > 10e10\")\n",
    "print_eval(\"i > 10e307\")\n",
    "print_eval(\"i > 10e308\")\n",
    "print_eval(\"i / i\")\n",
    "\n",
    "n = float(\"nan\")\n",
    "print_eval(\"n\")\n",
    "print_eval(\"n == n\")\n",
    "print_eval(\"1 > n\")\n",
    "print_eval(\"1 < n\")\n",
    "print_eval(\"1 == n\")\n",
    "print_eval(\"1 + n\")\n",
    "print_eval(\"n in [n]\")"
   ]
  },
  {
   "cell_type": "markdown",
   "metadata": {},
   "source": [
    "# Formatters and linters\n",
    "\n",
    "todo"
   ]
  },
  {
   "cell_type": "markdown",
   "metadata": {},
   "source": [
    "```python\n",
    "# This code has been copied from the black playground, https://black.now.sh/\n",
    "\n",
    "from seven_dwwarfs import Grumpy, Happy, Sleepy, Bashful, Sneezy, Dopey, Doc\n",
    "x = {  'a':37,'b':42,\n",
    "\n",
    "'c':927}\n",
    "\n",
    "x = 123456789.123456789E123456789\n",
    "\n",
    "if very_long_variable_name is not None and \\\n",
    " very_long_variable_name.field > 0 or \\\n",
    " very_long_variable_name.is_debug:\n",
    " z = 'hello '+'world'\n",
    "else:\n",
    " world = 'world'\n",
    " a = 'hello {}'.format(world)\n",
    " f = rf'hello {world}'\n",
    "if (this\n",
    "and that): y = 'hello ''world'#FIXME: https://github.com/python/black/issues/26\n",
    "class Foo  (     object  ):\n",
    "  def f    (self   ):\n",
    "    return       37*-2\n",
    "  def g(self, x,y=42):\n",
    "      return y\n",
    "def f  (   a: List[ int ]) :\n",
    "  return      37-a[42-u :  y**3]\n",
    "def very_important_function(template: str,*variables,file: os.PathLike,debug:bool=False,):\n",
    "    \"\"\"Applies `variables` to the `template` and writes to `file`.\"\"\"\n",
    "    with open(file, \"w\") as f:\n",
    "     ...\n",
    "# fmt: off\n",
    "custom_formatting = [\n",
    "    0,  1,  2,\n",
    "    3,  4,  5,\n",
    "    6,  7,  8,\n",
    "]\n",
    "# fmt: on\n",
    "regular_formatting = [\n",
    "    0,  1,  2,\n",
    "    3,  4,  5,\n",
    "    6,  7,  8,\n",
    "]\n",
    "```\n",
    "\n",
    "```bash\n",
    "% flake8 linting_formatting_example_original.py\n",
    "linting_formatting_example_original.py:4:6: E201 whitespace after '{'\n",
    "linting_formatting_example_original.py:4:11: E231 missing whitespace after ':'\n",
    "linting_formatting_example_original.py:4:14: E231 missing whitespace after ','\n",
    "linting_formatting_example_original.py:4:18: E231 missing whitespace after ':'\n",
    "linting_formatting_example_original.py:6:1: E128 continuation line under-indented for visual indent\n",
    "linting_formatting_example_original.py:6:4: E231 missing whitespace after ':'\n",
    "linting_formatting_example_original.py:13:2: E111 indentation is not a multiple of four\n",
    "...\n",
    "```\n",
    "\n",
    "```bash\n",
    "% pylint linting_formatting_example_original.py                                                                                                                                        \n",
    "************* Module linting_formatting_example_original                                                                                                                                                           \n",
    "linting_formatting_example_original.py:4:4: C0326: No space allowed after bracket                                                                                                                                  \n",
    "x = {  'a':37,'b':42,                                                                                                                                                                                              \n",
    "    ^ (bad-whitespace)                                                                                                                                                                                             \n",
    "linting_formatting_example_original.py:4:13: C0326: Exactly one space required after comma                                                                                                                         \n",
    "x = {  'a':37,'b':42,                                                                                                                                                                                              \n",
    "             ^ (bad-whitespace)                                                                                                                                                                                    \n",
    "linting_formatting_example_original.py:6:0: C0330: Wrong continued indentation (add 7 spaces).                                                                                                                     \n",
    "'c':927}                                                                                                                                                                                                           \n",
    "^      | (bad-continuation)                                                                                                                                                                                        \n",
    "linting_formatting_example_original.py:13:0: W0311: Bad indentation. Found 1 spaces, expected 4 (bad-indentation)\n",
    "...\n",
    "linting_formatting_example_original.py:3:0: W0611: Unused Doc imported from seven_dwwarfs (unused-import)                                                                                                          \n",
    "                                                                                                                               \n",
    "----------------------------------------------------------------------                             \n",
    "Your code has been rated at -50.00/10 (previous run: -50.00/10, +0.00)\n",
    "```\n",
    "\n",
    "```bash\n",
    "% black --diff linting_formatting_example_original.py                                                                                                                                  \n",
    "--- linting_formatting_example_original.py      2019-06-06 17:01:19.921125 +0000                                                                                                                                   \n",
    "+++ linting_formatting_example_original.py      2019-06-06 17:05:33.467763 +0000                                                                                                                                   \n",
    "@@ -1,44 +1,51 @@                                                                                                                                                                                                  \n",
    " # This code has been copied from the black playground, https://black.now.sh/                                                                                                                                      \n",
    "                                                                                                                                                                                                                   \n",
    " from seven_dwwarfs import Grumpy, Happy, Sleepy, Bashful, Sneezy, Dopey, Doc                                                                                                                                      \n",
    "-x = {  'a':37,'b':42,                                                                                                                                                                                             \n",
    "                                                                                                                                                                                                                   \n",
    "-'c':927}                                                                                                                                                                                                          \n",
    "+x = {\"a\": 37, \"b\": 42, \"c\": 927}                                                                                                                                                                                  \n",
    "                                                                                                                                                                                                                   \n",
    "-x = 123456789.123456789E123456789                                                                                                                                                                                 \n",
    "+x = 123456789.123456789e123456789                                                                                                                                                                                 \n",
    "                                                                                                                                                                                                                   \n",
    "-if very_long_variable_name is not None and \\                                                                                                                                                                      \n",
    "- very_long_variable_name.field > 0 or \\                                                                                                                                                                           \n",
    "- very_long_variable_name.is_debug:                                                                                                                                                                                \n",
    "- z = 'hello '+'world'                                                                                                                                                                                             \n",
    "+if (                                                                                                                                                                                                              \n",
    "+    very_long_variable_name is not None                                                                                                                                                                           \n",
    "+    and very_long_variable_name.field > 0                                                                                                                                                                         \n",
    "+    or very_long_variable_name.is_debug                                                                                                                                                                           \n",
    "+):                                                                                                                                                                                                                \n",
    "+    z = \"hello \" + \"world\"        \n",
    "...\n",
    "```\n"
   ]
  }
 ],
 "metadata": {
  "kernelspec": {
   "display_name": "Python 3",
   "language": "python",
   "name": "python3"
  },
  "language_info": {
   "codemirror_mode": {
    "name": "ipython",
    "version": 3
   },
   "file_extension": ".py",
   "mimetype": "text/x-python",
   "name": "python",
   "nbconvert_exporter": "python",
   "pygments_lexer": "ipython3",
   "version": "3.7.3"
  }
 },
 "nbformat": 4,
 "nbformat_minor": 2
}
